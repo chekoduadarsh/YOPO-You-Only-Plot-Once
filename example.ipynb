{
 "cells": [
  {
   "cell_type": "code",
   "execution_count": 3,
   "metadata": {},
   "outputs": [
    {
     "name": "stdout",
     "output_type": "stream",
     "text": [
      "Looking in indexes: https://pypi.org/simple, https://pypi.ngc.nvidia.com\n",
      "Requirement already satisfied: yopo in /home/adarsh/.local/lib/python3.8/site-packages (0.0.11)\n",
      "Requirement already satisfied: pandas in /home/adarsh/.local/lib/python3.8/site-packages (from yopo) (1.3.5)\n",
      "Requirement already satisfied: numpy in /home/adarsh/.local/lib/python3.8/site-packages (from yopo) (1.19.2)\n",
      "Requirement already satisfied: wtforms in /home/adarsh/.local/lib/python3.8/site-packages (from yopo) (3.0.1)\n",
      "Requirement already satisfied: jupyter-dash in /home/adarsh/.local/lib/python3.8/site-packages (from yopo) (0.4.0)\n",
      "Requirement already satisfied: dash-bootstrap-components in /home/adarsh/.local/lib/python3.8/site-packages (from yopo) (1.0.2)\n",
      "Requirement already satisfied: MarkupSafe>=2.0 in /home/adarsh/.local/lib/python3.8/site-packages (from yopo) (2.0.1)\n",
      "Requirement already satisfied: dash==2.0.0 in /home/adarsh/.local/lib/python3.8/site-packages (from yopo) (2.0.0)\n",
      "Requirement already satisfied: jupyter in /home/adarsh/.local/lib/python3.8/site-packages (from yopo) (1.0.0)\n",
      "Requirement already satisfied: pyngrok in /home/adarsh/.local/lib/python3.8/site-packages (from yopo) (5.1.0)\n",
      "Requirement already satisfied: ipython in /home/adarsh/.local/lib/python3.8/site-packages (from yopo) (7.30.1)\n",
      "Requirement already satisfied: dash-daq in /home/adarsh/.local/lib/python3.8/site-packages (from yopo) (0.5.0)\n",
      "Requirement already satisfied: click>=7.1.2 in /home/adarsh/.local/lib/python3.8/site-packages (from yopo) (8.0.3)\n",
      "Requirement already satisfied: dash-trich-components in /home/adarsh/.local/lib/python3.8/site-packages (from yopo) (1.0.0)\n",
      "Requirement already satisfied: python-dateutil>=2.7.3 in /home/adarsh/anaconda3/lib/python3.8/site-packages (from pandas->yopo) (2.8.1)\n",
      "Requirement already satisfied: pytz>=2017.3 in /home/adarsh/anaconda3/lib/python3.8/site-packages (from pandas->yopo) (2020.1)\n",
      "Requirement already satisfied: requests in /home/adarsh/anaconda3/lib/python3.8/site-packages (from jupyter-dash->yopo) (2.24.0)\n",
      "Requirement already satisfied: ipykernel in /home/adarsh/.local/lib/python3.8/site-packages (from jupyter-dash->yopo) (6.6.0)\n",
      "Requirement already satisfied: flask in /home/adarsh/.local/lib/python3.8/site-packages (from jupyter-dash->yopo) (2.0.2)\n",
      "Requirement already satisfied: ansi2html in /home/adarsh/.local/lib/python3.8/site-packages (from jupyter-dash->yopo) (1.6.0)\n",
      "Requirement already satisfied: retrying in /home/adarsh/.local/lib/python3.8/site-packages (from jupyter-dash->yopo) (1.3.3)\n",
      "Requirement already satisfied: dash-core-components==2.0.0 in /home/adarsh/.local/lib/python3.8/site-packages (from dash==2.0.0->yopo) (2.0.0)\n",
      "Requirement already satisfied: flask-compress in /home/adarsh/.local/lib/python3.8/site-packages (from dash==2.0.0->yopo) (1.10.1)\n",
      "Requirement already satisfied: plotly>=5.0.0 in /home/adarsh/.local/lib/python3.8/site-packages (from dash==2.0.0->yopo) (5.5.0)\n",
      "Requirement already satisfied: dash-table==5.0.0 in /home/adarsh/.local/lib/python3.8/site-packages (from dash==2.0.0->yopo) (5.0.0)\n",
      "Requirement already satisfied: dash-html-components==2.0.0 in /home/adarsh/.local/lib/python3.8/site-packages (from dash==2.0.0->yopo) (2.0.0)\n",
      "Requirement already satisfied: qtconsole in /home/adarsh/.local/lib/python3.8/site-packages (from jupyter->yopo) (5.2.2)\n",
      "Requirement already satisfied: jupyter-console in /home/adarsh/.local/lib/python3.8/site-packages (from jupyter->yopo) (6.4.0)\n",
      "Requirement already satisfied: nbconvert in /home/adarsh/.local/lib/python3.8/site-packages (from jupyter->yopo) (6.3.0)\n",
      "Requirement already satisfied: ipywidgets in /home/adarsh/.local/lib/python3.8/site-packages (from jupyter->yopo) (7.6.5)\n",
      "Requirement already satisfied: notebook in /home/adarsh/.local/lib/python3.8/site-packages (from jupyter->yopo) (6.4.6)\n",
      "Requirement already satisfied: PyYAML in /home/adarsh/anaconda3/lib/python3.8/site-packages (from pyngrok->yopo) (5.3.1)\n",
      "Requirement already satisfied: jedi>=0.16 in /home/adarsh/.local/lib/python3.8/site-packages (from ipython->yopo) (0.18.1)\n",
      "Requirement already satisfied: decorator in /home/adarsh/.local/lib/python3.8/site-packages (from ipython->yopo) (5.1.0)\n",
      "Requirement already satisfied: backcall in /home/adarsh/.local/lib/python3.8/site-packages (from ipython->yopo) (0.2.0)\n",
      "Requirement already satisfied: matplotlib-inline in /home/adarsh/.local/lib/python3.8/site-packages (from ipython->yopo) (0.1.3)\n",
      "Requirement already satisfied: pexpect>4.3; sys_platform != \"win32\" in /home/adarsh/anaconda3/lib/python3.8/site-packages (from ipython->yopo) (4.8.0)\n",
      "Requirement already satisfied: setuptools>=18.5 in /home/adarsh/anaconda3/lib/python3.8/site-packages (from ipython->yopo) (60.1.0)\n",
      "Requirement already satisfied: pygments in /home/adarsh/.local/lib/python3.8/site-packages (from ipython->yopo) (2.10.0)\n",
      "Requirement already satisfied: pickleshare in /home/adarsh/.local/lib/python3.8/site-packages (from ipython->yopo) (0.7.5)\n",
      "Requirement already satisfied: traitlets>=4.2 in /home/adarsh/.local/lib/python3.8/site-packages (from ipython->yopo) (5.1.1)\n",
      "Requirement already satisfied: prompt-toolkit!=3.0.0,!=3.0.1,<3.1.0,>=2.0.0 in /home/adarsh/.local/lib/python3.8/site-packages (from ipython->yopo) (3.0.24)\n",
      "Requirement already satisfied: six>=1.5 in /home/adarsh/.local/lib/python3.8/site-packages (from python-dateutil>=2.7.3->pandas->yopo) (1.15.0)\n",
      "Requirement already satisfied: certifi>=2017.4.17 in /home/adarsh/anaconda3/lib/python3.8/site-packages (from requests->jupyter-dash->yopo) (2020.6.20)\n",
      "Requirement already satisfied: chardet<4,>=3.0.2 in /home/adarsh/anaconda3/lib/python3.8/site-packages (from requests->jupyter-dash->yopo) (3.0.4)\n",
      "Requirement already satisfied: urllib3!=1.25.0,!=1.25.1,<1.26,>=1.21.1 in /home/adarsh/anaconda3/lib/python3.8/site-packages (from requests->jupyter-dash->yopo) (1.25.11)\n",
      "Requirement already satisfied: idna<3,>=2.5 in /home/adarsh/anaconda3/lib/python3.8/site-packages (from requests->jupyter-dash->yopo) (2.10)\n",
      "Requirement already satisfied: tornado<7.0,>=4.2 in /home/adarsh/.local/lib/python3.8/site-packages (from ipykernel->jupyter-dash->yopo) (6.1)\n",
      "Requirement already satisfied: jupyter-client<8.0 in /home/adarsh/.local/lib/python3.8/site-packages (from ipykernel->jupyter-dash->yopo) (7.1.0)\n",
      "Requirement already satisfied: debugpy<2.0,>=1.0.0 in /home/adarsh/.local/lib/python3.8/site-packages (from ipykernel->jupyter-dash->yopo) (1.5.1)\n",
      "Requirement already satisfied: Jinja2>=3.0 in /home/adarsh/.local/lib/python3.8/site-packages (from flask->jupyter-dash->yopo) (3.0.3)\n",
      "Requirement already satisfied: itsdangerous>=2.0 in /home/adarsh/.local/lib/python3.8/site-packages (from flask->jupyter-dash->yopo) (2.0.1)\n",
      "Requirement already satisfied: Werkzeug>=2.0 in /home/adarsh/.local/lib/python3.8/site-packages (from flask->jupyter-dash->yopo) (2.0.2)\n",
      "Requirement already satisfied: brotli in /home/adarsh/.local/lib/python3.8/site-packages (from flask-compress->dash==2.0.0->yopo) (1.0.9)\n",
      "Requirement already satisfied: tenacity>=6.2.0 in /home/adarsh/.local/lib/python3.8/site-packages (from plotly>=5.0.0->dash==2.0.0->yopo) (8.0.1)\n",
      "Requirement already satisfied: pyzmq>=17.1 in /home/adarsh/.local/lib/python3.8/site-packages (from qtconsole->jupyter->yopo) (22.3.0)\n",
      "Requirement already satisfied: ipython-genutils in /home/adarsh/.local/lib/python3.8/site-packages (from qtconsole->jupyter->yopo) (0.2.0)\n",
      "Requirement already satisfied: jupyter-core in /home/adarsh/.local/lib/python3.8/site-packages (from qtconsole->jupyter->yopo) (4.9.1)\n",
      "Requirement already satisfied: qtpy in /home/adarsh/anaconda3/lib/python3.8/site-packages (from qtconsole->jupyter->yopo) (1.9.0)\n",
      "Requirement already satisfied: jupyterlab-pygments in /home/adarsh/.local/lib/python3.8/site-packages (from nbconvert->jupyter->yopo) (0.1.2)\n",
      "Requirement already satisfied: defusedxml in /home/adarsh/.local/lib/python3.8/site-packages (from nbconvert->jupyter->yopo) (0.7.1)\n",
      "Requirement already satisfied: nbclient<0.6.0,>=0.5.0 in /home/adarsh/.local/lib/python3.8/site-packages (from nbconvert->jupyter->yopo) (0.5.9)\n",
      "Requirement already satisfied: nbformat>=4.4 in /home/adarsh/.local/lib/python3.8/site-packages (from nbconvert->jupyter->yopo) (5.1.3)\n",
      "Requirement already satisfied: mistune<2,>=0.8.1 in /home/adarsh/.local/lib/python3.8/site-packages (from nbconvert->jupyter->yopo) (0.8.4)\n",
      "Requirement already satisfied: pandocfilters>=1.4.1 in /home/adarsh/.local/lib/python3.8/site-packages (from nbconvert->jupyter->yopo) (1.5.0)\n",
      "Requirement already satisfied: entrypoints>=0.2.2 in /home/adarsh/anaconda3/lib/python3.8/site-packages (from nbconvert->jupyter->yopo) (0.3)\n",
      "Requirement already satisfied: testpath in /home/adarsh/.local/lib/python3.8/site-packages (from nbconvert->jupyter->yopo) (0.5.0)\n",
      "Requirement already satisfied: bleach in /home/adarsh/.local/lib/python3.8/site-packages (from nbconvert->jupyter->yopo) (4.1.0)\n",
      "Requirement already satisfied: jupyterlab-widgets>=1.0.0; python_version >= \"3.6\" in /home/adarsh/.local/lib/python3.8/site-packages (from ipywidgets->jupyter->yopo) (1.0.2)\n",
      "Requirement already satisfied: widgetsnbextension~=3.5.0 in /home/adarsh/.local/lib/python3.8/site-packages (from ipywidgets->jupyter->yopo) (3.5.2)\n",
      "Requirement already satisfied: prometheus-client in /home/adarsh/.local/lib/python3.8/site-packages (from notebook->jupyter->yopo) (0.12.0)\n",
      "Requirement already satisfied: argon2-cffi in /home/adarsh/.local/lib/python3.8/site-packages (from notebook->jupyter->yopo) (21.3.0)\n",
      "Requirement already satisfied: Send2Trash>=1.8.0 in /home/adarsh/.local/lib/python3.8/site-packages (from notebook->jupyter->yopo) (1.8.0)\n",
      "Requirement already satisfied: terminado>=0.8.3 in /home/adarsh/.local/lib/python3.8/site-packages (from notebook->jupyter->yopo) (0.12.1)\n",
      "Requirement already satisfied: nest-asyncio>=1.5 in /home/adarsh/.local/lib/python3.8/site-packages (from notebook->jupyter->yopo) (1.5.4)\n",
      "Requirement already satisfied: parso<0.9.0,>=0.8.0 in /home/adarsh/.local/lib/python3.8/site-packages (from jedi>=0.16->ipython->yopo) (0.8.3)\n",
      "Requirement already satisfied: ptyprocess>=0.5 in /home/adarsh/.local/lib/python3.8/site-packages (from pexpect>4.3; sys_platform != \"win32\"->ipython->yopo) (0.7.0)\n",
      "Requirement already satisfied: wcwidth in /home/adarsh/.local/lib/python3.8/site-packages (from prompt-toolkit!=3.0.0,!=3.0.1,<3.1.0,>=2.0.0->ipython->yopo) (0.2.5)\n",
      "Requirement already satisfied: jsonschema!=2.5.0,>=2.4 in /home/adarsh/.local/lib/python3.8/site-packages (from nbformat>=4.4->nbconvert->jupyter->yopo) (4.3.2)\n",
      "Requirement already satisfied: packaging in /home/adarsh/.local/lib/python3.8/site-packages (from bleach->nbconvert->jupyter->yopo) (21.3)\n",
      "Requirement already satisfied: webencodings in /home/adarsh/anaconda3/lib/python3.8/site-packages (from bleach->nbconvert->jupyter->yopo) (0.5.1)\n",
      "Requirement already satisfied: argon2-cffi-bindings in /home/adarsh/.local/lib/python3.8/site-packages (from argon2-cffi->notebook->jupyter->yopo) (21.2.0)\n",
      "Requirement already satisfied: attrs>=17.4.0 in /home/adarsh/.local/lib/python3.8/site-packages (from jsonschema!=2.5.0,>=2.4->nbformat>=4.4->nbconvert->jupyter->yopo) (21.2.0)\n",
      "Requirement already satisfied: pyrsistent!=0.17.0,!=0.17.1,!=0.17.2,>=0.14.0 in /home/adarsh/.local/lib/python3.8/site-packages (from jsonschema!=2.5.0,>=2.4->nbformat>=4.4->nbconvert->jupyter->yopo) (0.18.0)\n",
      "Requirement already satisfied: importlib-resources>=1.4.0; python_version < \"3.9\" in /home/adarsh/.local/lib/python3.8/site-packages (from jsonschema!=2.5.0,>=2.4->nbformat>=4.4->nbconvert->jupyter->yopo) (5.4.0)\n",
      "Requirement already satisfied: pyparsing!=3.0.5,>=2.0.2 in /home/adarsh/.local/lib/python3.8/site-packages (from packaging->bleach->nbconvert->jupyter->yopo) (3.0.6)\n",
      "Requirement already satisfied: cffi>=1.0.1 in /home/adarsh/.local/lib/python3.8/site-packages (from argon2-cffi-bindings->argon2-cffi->notebook->jupyter->yopo) (1.15.0)\n",
      "Requirement already satisfied: zipp>=3.1.0; python_version < \"3.10\" in /home/adarsh/.local/lib/python3.8/site-packages (from importlib-resources>=1.4.0; python_version < \"3.9\"->jsonschema!=2.5.0,>=2.4->nbformat>=4.4->nbconvert->jupyter->yopo) (3.6.0)\n",
      "Requirement already satisfied: pycparser in /home/adarsh/.local/lib/python3.8/site-packages (from cffi>=1.0.1->argon2-cffi-bindings->argon2-cffi->notebook->jupyter->yopo) (2.21)\n"
     ]
    }
   ],
   "source": [
    "!pip install yopo"
   ]
  },
  {
   "cell_type": "code",
   "execution_count": 1,
   "metadata": {},
   "outputs": [
    {
     "data": {
      "text/html": [
       "\n",
       "        <iframe\n",
       "            width=\"100%\"\n",
       "            height=\"650\"\n",
       "            src=\"http://127.0.0.1:8052/\"\n",
       "            frameborder=\"0\"\n",
       "            allowfullscreen\n",
       "            \n",
       "        ></iframe>\n",
       "        "
      ],
      "text/plain": [
       "<IPython.lib.display.IFrame at 0x7f638e97fe50>"
      ]
     },
     "metadata": {},
     "output_type": "display_data"
    }
   ],
   "source": [
    "from yopo import dashboard\n",
    "import pandas as pd\n",
    "\n",
    "df = pd.read_csv('https://raw.githubusercontent.com/plotly/datasets/master/finance-charts-apple.csv')\n",
    "dashboard(input=df,mode=\"inline\",port=8052)"
   ]
  },
  {
   "cell_type": "code",
   "execution_count": 3,
   "metadata": {},
   "outputs": [
    {
     "name": "stdout",
     "output_type": "stream",
     "text": [
      "Authtoken saved to configuration file: /home/adarsh/.ngrok2/ngrok.yml\n",
      "Dash app running on http://b717-115-99-210-209.ngrok.io/\n"
     ]
    },
    {
     "name": "stderr",
     "output_type": "stream",
     "text": [
      "/home/adarsh/anaconda3/envs/YOPO/lib/python3.9/site-packages/jupyter_dash/jupyter_app.py:139: UserWarning:\n",
      "\n",
      "The 'environ['werkzeug.server.shutdown']' function is deprecated and will be removed in Werkzeug 2.1.\n",
      "\n"
     ]
    }
   ],
   "source": [
    "\n",
    "!ngrok authtoken your_token\n",
    "df = pd.read_csv(\"https://raw.githubusercontent.com/plotly/datasets/master/earthquakes-23k.csv\")\n",
    "dashboard(input=df,mode=\"external\",port=8054,tunnel=\"ngrok\")"
   ]
  },
  {
   "cell_type": "code",
   "execution_count": 2,
   "metadata": {},
   "outputs": [
    {
     "name": "stderr",
     "output_type": "stream",
     "text": [
      "/home/adarsh/.local/lib/python3.8/site-packages/jupyter_dash/jupyter_app.py:139: UserWarning:\n",
      "\n",
      "The 'environ['werkzeug.server.shutdown']' function is deprecated and will be removed in Werkzeug 2.1.\n",
      "\n"
     ]
    }
   ],
   "source": [
    "from yopo import kill_dashboard\n",
    "kill_dashboard(host=\"localhost\",port=8052)"
   ]
  }
 ],
 "metadata": {
  "interpreter": {
   "hash": "916dbcbb3f70747c44a77c7bcd40155683ae19c65e1c03b4aa3499c5328201f1"
  },
  "kernelspec": {
   "display_name": "Python 3 (ipykernel)",
   "language": "python",
   "name": "python3"
  },
  "language_info": {
   "codemirror_mode": {
    "name": "ipython",
    "version": 3
   },
   "file_extension": ".py",
   "mimetype": "text/x-python",
   "name": "python",
   "nbconvert_exporter": "python",
   "pygments_lexer": "ipython3",
   "version": "3.9.7"
  }
 },
 "nbformat": 4,
 "nbformat_minor": 2
}
